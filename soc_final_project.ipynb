{
 "cells": [
  {
   "cell_type": "markdown",
   "metadata": {},
   "source": [
    "# Variational Quantum Eigensolver (VQE) for HeH+\n",
    "\n",
    "This notebook involves my code implementation for the research paper titled which can be found on the link https://arxiv.org/pdf/1304.3061. This is my final project as a part of the SoC-2024."
   ]
  },
  {
   "cell_type": "code",
   "execution_count": 30,
   "metadata": {},
   "outputs": [],
   "source": [
    "#importing the required libraries\n",
    "import pennylane as qml\n",
    "from pennylane import numpy as np\n",
    "import jax\n",
    "import optax\n",
    "import matplotlib.pyplot as plt\n",
    "from pennylane import qchem"
   ]
  },
  {
   "cell_type": "markdown",
   "metadata": {},
   "source": [
    "## Loading the Hamiltonian\n",
    "Here, the hamiltonian for the HeH+ molecule has been uploaded using pennylane. The nuclear coordinates have been obtained from wikipedia. \n",
    "Source:https://en.wikipedia.org/wiki/Helium_hydride_ion#:~:text=The%20length%20of%20the%20covalent,0.772%20%C3%85%20or%2077.2%20pm.\n",
    "Then by using the molecular_hamiltonian function, the Hamiltonian and the qubits are obtained."
   ]
  },
  {
   "cell_type": "code",
   "execution_count": 31,
   "metadata": {},
   "outputs": [],
   "source": [
    "#Defining the molecule\n",
    "symbols = [\"He\", \"H\"]\n",
    "coordinates = np.array([[0.0, 0.0, 0.0],[0.0, 0.0, 0.772]])\n",
    "#Generating the molecular hamiltonian\n",
    "H, qubits = qchem.molecular_hamiltonian(symbols, coordinates,charge=1, basis='sto-3g')\n"
   ]
  },
  {
   "cell_type": "code",
   "execution_count": 88,
   "metadata": {},
   "outputs": [
    {
     "name": "stdout",
     "output_type": "stream",
     "text": [
      "Hartree-Fock state: [1 1 0 0]\n"
     ]
    }
   ],
   "source": [
    "#Setting up the quantum device\n",
    "dev = qml.device('default.qubit', wires=qubits)\n",
    "electrons = 2\n",
    "hf = qchem.hf_state(electrons, qubits)\n",
    "print(\"Hartree-Fock state:\", hf)"
   ]
  },
  {
   "cell_type": "markdown",
   "metadata": {},
   "source": [
    "# Defining the Quantum Circuit\n",
    "The quantum circuit has been defined with increased number of parameters i.e. 4 to make it more expressive and for better accuracy."
   ]
  },
  {
   "cell_type": "code",
   "execution_count": 93,
   "metadata": {},
   "outputs": [],
   "source": [
    "@qml.qnode(dev)\n",
    "def circuit(params, wires):\n",
    "    qml.BasisState(hf, wires=range(qubits))\n",
    "    qml.DoubleExcitation(params[0], wires=[0,1,2,3])\n",
    "    qml.DoubleExcitation(params[1], wires=[0,1,2,3])\n",
    "    qml.SingleExcitation(params[2], wires=[0,2])\n",
    "    qml.SingleExcitation(params[3], wires=[1,3])\n",
    "    return qml.expval(H)"
   ]
  },
  {
   "cell_type": "code",
   "execution_count": 103,
   "metadata": {},
   "outputs": [],
   "source": [
    "#Defining the cost function\n",
    "def cost_fn(params):\n",
    "    return circuit(params, wires=range(qubits))"
   ]
  },
  {
   "cell_type": "markdown",
   "metadata": {},
   "source": [
    "# Classical Optimization\n",
    "A classical optimizer was used to find the optimal parameters for the quantum circuit. The optimizer adjusted the parameters to minimize the cost function, which eventually gives the ground-state energy of the molecule."
   ]
  },
  {
   "cell_type": "code",
   "execution_count": 99,
   "metadata": {},
   "outputs": [],
   "source": [
    "# Setting optimization parameters\n",
    "max_iterations = 500\n",
    "conv_tol = 1e-06\n",
    "opt = optax.adam(learning_rate=0.1)"
   ]
  },
  {
   "cell_type": "code",
   "execution_count": 104,
   "metadata": {},
   "outputs": [],
   "source": [
    "# Initializing parameters and running optimization\n",
    "theta = np.random.random(4)\n",
    "# Storing values of the cost function\n",
    "energy = [cost_fn(theta)]\n",
    "#Storing the values of the circuit parameter\n",
    "angles = [theta]\n",
    "opt_state = opt.init(theta)"
   ]
  },
  {
   "cell_type": "code",
   "execution_count": 105,
   "metadata": {},
   "outputs": [
    {
     "name": "stderr",
     "output_type": "stream",
     "text": [
      "e:\\Quantum Computing SoC\\venv\\Lib\\site-packages\\pennylane\\math\\utils.py:227: UserWarning: Contains tensors of types {'jax', 'autograd'}; dispatch will prioritize TensorFlow, PyTorch, and  Jax over Autograd. Consider replacing Autograd with vanilla NumPy.\n",
      "  warnings.warn(\n"
     ]
    },
    {
     "name": "stdout",
     "output_type": "stream",
     "text": [
      "Step = 0,  Energy = -1.88716447 Ha\n"
     ]
    },
    {
     "name": "stderr",
     "output_type": "stream",
     "text": [
      "e:\\Quantum Computing SoC\\venv\\Lib\\site-packages\\pennylane\\math\\utils.py:227: UserWarning: Contains tensors of types {'jax', 'autograd'}; dispatch will prioritize TensorFlow, PyTorch, and  Jax over Autograd. Consider replacing Autograd with vanilla NumPy.\n",
      "  warnings.warn(\n",
      "e:\\Quantum Computing SoC\\venv\\Lib\\site-packages\\pennylane\\math\\utils.py:227: UserWarning: Contains tensors of types {'jax', 'autograd'}; dispatch will prioritize TensorFlow, PyTorch, and  Jax over Autograd. Consider replacing Autograd with vanilla NumPy.\n",
      "  warnings.warn(\n",
      "e:\\Quantum Computing SoC\\venv\\Lib\\site-packages\\pennylane\\math\\utils.py:227: UserWarning: Contains tensors of types {'jax', 'autograd'}; dispatch will prioritize TensorFlow, PyTorch, and  Jax over Autograd. Consider replacing Autograd with vanilla NumPy.\n",
      "  warnings.warn(\n",
      "e:\\Quantum Computing SoC\\venv\\Lib\\site-packages\\pennylane\\math\\utils.py:227: UserWarning: Contains tensors of types {'jax', 'autograd'}; dispatch will prioritize TensorFlow, PyTorch, and  Jax over Autograd. Consider replacing Autograd with vanilla NumPy.\n",
      "  warnings.warn(\n",
      "e:\\Quantum Computing SoC\\venv\\Lib\\site-packages\\pennylane\\math\\utils.py:227: UserWarning: Contains tensors of types {'jax', 'autograd'}; dispatch will prioritize TensorFlow, PyTorch, and  Jax over Autograd. Consider replacing Autograd with vanilla NumPy.\n",
      "  warnings.warn(\n",
      "e:\\Quantum Computing SoC\\venv\\Lib\\site-packages\\pennylane\\math\\utils.py:227: UserWarning: Contains tensors of types {'jax', 'autograd'}; dispatch will prioritize TensorFlow, PyTorch, and  Jax over Autograd. Consider replacing Autograd with vanilla NumPy.\n",
      "  warnings.warn(\n",
      "e:\\Quantum Computing SoC\\venv\\Lib\\site-packages\\pennylane\\math\\utils.py:227: UserWarning: Contains tensors of types {'jax', 'autograd'}; dispatch will prioritize TensorFlow, PyTorch, and  Jax over Autograd. Consider replacing Autograd with vanilla NumPy.\n",
      "  warnings.warn(\n",
      "e:\\Quantum Computing SoC\\venv\\Lib\\site-packages\\pennylane\\math\\utils.py:227: UserWarning: Contains tensors of types {'jax', 'autograd'}; dispatch will prioritize TensorFlow, PyTorch, and  Jax over Autograd. Consider replacing Autograd with vanilla NumPy.\n",
      "  warnings.warn(\n",
      "e:\\Quantum Computing SoC\\venv\\Lib\\site-packages\\pennylane\\math\\utils.py:227: UserWarning: Contains tensors of types {'jax', 'autograd'}; dispatch will prioritize TensorFlow, PyTorch, and  Jax over Autograd. Consider replacing Autograd with vanilla NumPy.\n",
      "  warnings.warn(\n",
      "e:\\Quantum Computing SoC\\venv\\Lib\\site-packages\\pennylane\\math\\utils.py:227: UserWarning: Contains tensors of types {'jax', 'autograd'}; dispatch will prioritize TensorFlow, PyTorch, and  Jax over Autograd. Consider replacing Autograd with vanilla NumPy.\n",
      "  warnings.warn(\n",
      "e:\\Quantum Computing SoC\\venv\\Lib\\site-packages\\pennylane\\math\\utils.py:227: UserWarning: Contains tensors of types {'jax', 'autograd'}; dispatch will prioritize TensorFlow, PyTorch, and  Jax over Autograd. Consider replacing Autograd with vanilla NumPy.\n",
      "  warnings.warn(\n",
      "e:\\Quantum Computing SoC\\venv\\Lib\\site-packages\\pennylane\\math\\utils.py:227: UserWarning: Contains tensors of types {'jax', 'autograd'}; dispatch will prioritize TensorFlow, PyTorch, and  Jax over Autograd. Consider replacing Autograd with vanilla NumPy.\n",
      "  warnings.warn(\n",
      "e:\\Quantum Computing SoC\\venv\\Lib\\site-packages\\pennylane\\math\\utils.py:227: UserWarning: Contains tensors of types {'jax', 'autograd'}; dispatch will prioritize TensorFlow, PyTorch, and  Jax over Autograd. Consider replacing Autograd with vanilla NumPy.\n",
      "  warnings.warn(\n",
      "e:\\Quantum Computing SoC\\venv\\Lib\\site-packages\\pennylane\\math\\utils.py:227: UserWarning: Contains tensors of types {'jax', 'autograd'}; dispatch will prioritize TensorFlow, PyTorch, and  Jax over Autograd. Consider replacing Autograd with vanilla NumPy.\n",
      "  warnings.warn(\n",
      "e:\\Quantum Computing SoC\\venv\\Lib\\site-packages\\pennylane\\math\\utils.py:227: UserWarning: Contains tensors of types {'jax', 'autograd'}; dispatch will prioritize TensorFlow, PyTorch, and  Jax over Autograd. Consider replacing Autograd with vanilla NumPy.\n",
      "  warnings.warn(\n",
      "e:\\Quantum Computing SoC\\venv\\Lib\\site-packages\\pennylane\\math\\utils.py:227: UserWarning: Contains tensors of types {'jax', 'autograd'}; dispatch will prioritize TensorFlow, PyTorch, and  Jax over Autograd. Consider replacing Autograd with vanilla NumPy.\n",
      "  warnings.warn(\n",
      "e:\\Quantum Computing SoC\\venv\\Lib\\site-packages\\pennylane\\math\\utils.py:227: UserWarning: Contains tensors of types {'jax', 'autograd'}; dispatch will prioritize TensorFlow, PyTorch, and  Jax over Autograd. Consider replacing Autograd with vanilla NumPy.\n",
      "  warnings.warn(\n",
      "e:\\Quantum Computing SoC\\venv\\Lib\\site-packages\\pennylane\\math\\utils.py:227: UserWarning: Contains tensors of types {'jax', 'autograd'}; dispatch will prioritize TensorFlow, PyTorch, and  Jax over Autograd. Consider replacing Autograd with vanilla NumPy.\n",
      "  warnings.warn(\n",
      "e:\\Quantum Computing SoC\\venv\\Lib\\site-packages\\pennylane\\math\\utils.py:227: UserWarning: Contains tensors of types {'jax', 'autograd'}; dispatch will prioritize TensorFlow, PyTorch, and  Jax over Autograd. Consider replacing Autograd with vanilla NumPy.\n",
      "  warnings.warn(\n",
      "e:\\Quantum Computing SoC\\venv\\Lib\\site-packages\\pennylane\\math\\utils.py:227: UserWarning: Contains tensors of types {'jax', 'autograd'}; dispatch will prioritize TensorFlow, PyTorch, and  Jax over Autograd. Consider replacing Autograd with vanilla NumPy.\n",
      "  warnings.warn(\n",
      "e:\\Quantum Computing SoC\\venv\\Lib\\site-packages\\pennylane\\math\\utils.py:227: UserWarning: Contains tensors of types {'jax', 'autograd'}; dispatch will prioritize TensorFlow, PyTorch, and  Jax over Autograd. Consider replacing Autograd with vanilla NumPy.\n",
      "  warnings.warn(\n",
      "e:\\Quantum Computing SoC\\venv\\Lib\\site-packages\\pennylane\\math\\utils.py:227: UserWarning: Contains tensors of types {'jax', 'autograd'}; dispatch will prioritize TensorFlow, PyTorch, and  Jax over Autograd. Consider replacing Autograd with vanilla NumPy.\n",
      "  warnings.warn(\n",
      "e:\\Quantum Computing SoC\\venv\\Lib\\site-packages\\pennylane\\math\\utils.py:227: UserWarning: Contains tensors of types {'jax', 'autograd'}; dispatch will prioritize TensorFlow, PyTorch, and  Jax over Autograd. Consider replacing Autograd with vanilla NumPy.\n",
      "  warnings.warn(\n",
      "e:\\Quantum Computing SoC\\venv\\Lib\\site-packages\\pennylane\\math\\utils.py:227: UserWarning: Contains tensors of types {'jax', 'autograd'}; dispatch will prioritize TensorFlow, PyTorch, and  Jax over Autograd. Consider replacing Autograd with vanilla NumPy.\n",
      "  warnings.warn(\n",
      "e:\\Quantum Computing SoC\\venv\\Lib\\site-packages\\pennylane\\math\\utils.py:227: UserWarning: Contains tensors of types {'jax', 'autograd'}; dispatch will prioritize TensorFlow, PyTorch, and  Jax over Autograd. Consider replacing Autograd with vanilla NumPy.\n",
      "  warnings.warn(\n",
      "e:\\Quantum Computing SoC\\venv\\Lib\\site-packages\\pennylane\\math\\utils.py:227: UserWarning: Contains tensors of types {'jax', 'autograd'}; dispatch will prioritize TensorFlow, PyTorch, and  Jax over Autograd. Consider replacing Autograd with vanilla NumPy.\n",
      "  warnings.warn(\n",
      "e:\\Quantum Computing SoC\\venv\\Lib\\site-packages\\pennylane\\math\\utils.py:227: UserWarning: Contains tensors of types {'jax', 'autograd'}; dispatch will prioritize TensorFlow, PyTorch, and  Jax over Autograd. Consider replacing Autograd with vanilla NumPy.\n",
      "  warnings.warn(\n",
      "e:\\Quantum Computing SoC\\venv\\Lib\\site-packages\\pennylane\\math\\utils.py:227: UserWarning: Contains tensors of types {'jax', 'autograd'}; dispatch will prioritize TensorFlow, PyTorch, and  Jax over Autograd. Consider replacing Autograd with vanilla NumPy.\n",
      "  warnings.warn(\n",
      "e:\\Quantum Computing SoC\\venv\\Lib\\site-packages\\pennylane\\math\\utils.py:227: UserWarning: Contains tensors of types {'jax', 'autograd'}; dispatch will prioritize TensorFlow, PyTorch, and  Jax over Autograd. Consider replacing Autograd with vanilla NumPy.\n",
      "  warnings.warn(\n",
      "e:\\Quantum Computing SoC\\venv\\Lib\\site-packages\\pennylane\\math\\utils.py:227: UserWarning: Contains tensors of types {'jax', 'autograd'}; dispatch will prioritize TensorFlow, PyTorch, and  Jax over Autograd. Consider replacing Autograd with vanilla NumPy.\n",
      "  warnings.warn(\n",
      "e:\\Quantum Computing SoC\\venv\\Lib\\site-packages\\pennylane\\math\\utils.py:227: UserWarning: Contains tensors of types {'jax', 'autograd'}; dispatch will prioritize TensorFlow, PyTorch, and  Jax over Autograd. Consider replacing Autograd with vanilla NumPy.\n",
      "  warnings.warn(\n",
      "e:\\Quantum Computing SoC\\venv\\Lib\\site-packages\\pennylane\\math\\utils.py:227: UserWarning: Contains tensors of types {'jax', 'autograd'}; dispatch will prioritize TensorFlow, PyTorch, and  Jax over Autograd. Consider replacing Autograd with vanilla NumPy.\n",
      "  warnings.warn(\n",
      "e:\\Quantum Computing SoC\\venv\\Lib\\site-packages\\pennylane\\math\\utils.py:227: UserWarning: Contains tensors of types {'jax', 'autograd'}; dispatch will prioritize TensorFlow, PyTorch, and  Jax over Autograd. Consider replacing Autograd with vanilla NumPy.\n",
      "  warnings.warn(\n",
      "e:\\Quantum Computing SoC\\venv\\Lib\\site-packages\\pennylane\\math\\utils.py:227: UserWarning: Contains tensors of types {'jax', 'autograd'}; dispatch will prioritize TensorFlow, PyTorch, and  Jax over Autograd. Consider replacing Autograd with vanilla NumPy.\n",
      "  warnings.warn(\n",
      "e:\\Quantum Computing SoC\\venv\\Lib\\site-packages\\pennylane\\math\\utils.py:227: UserWarning: Contains tensors of types {'jax', 'autograd'}; dispatch will prioritize TensorFlow, PyTorch, and  Jax over Autograd. Consider replacing Autograd with vanilla NumPy.\n",
      "  warnings.warn(\n",
      "e:\\Quantum Computing SoC\\venv\\Lib\\site-packages\\pennylane\\math\\utils.py:227: UserWarning: Contains tensors of types {'jax', 'autograd'}; dispatch will prioritize TensorFlow, PyTorch, and  Jax over Autograd. Consider replacing Autograd with vanilla NumPy.\n",
      "  warnings.warn(\n",
      "e:\\Quantum Computing SoC\\venv\\Lib\\site-packages\\pennylane\\math\\utils.py:227: UserWarning: Contains tensors of types {'jax', 'autograd'}; dispatch will prioritize TensorFlow, PyTorch, and  Jax over Autograd. Consider replacing Autograd with vanilla NumPy.\n",
      "  warnings.warn(\n",
      "e:\\Quantum Computing SoC\\venv\\Lib\\site-packages\\pennylane\\math\\utils.py:227: UserWarning: Contains tensors of types {'jax', 'autograd'}; dispatch will prioritize TensorFlow, PyTorch, and  Jax over Autograd. Consider replacing Autograd with vanilla NumPy.\n",
      "  warnings.warn(\n",
      "e:\\Quantum Computing SoC\\venv\\Lib\\site-packages\\pennylane\\math\\utils.py:227: UserWarning: Contains tensors of types {'jax', 'autograd'}; dispatch will prioritize TensorFlow, PyTorch, and  Jax over Autograd. Consider replacing Autograd with vanilla NumPy.\n",
      "  warnings.warn(\n",
      "e:\\Quantum Computing SoC\\venv\\Lib\\site-packages\\pennylane\\math\\utils.py:227: UserWarning: Contains tensors of types {'jax', 'autograd'}; dispatch will prioritize TensorFlow, PyTorch, and  Jax over Autograd. Consider replacing Autograd with vanilla NumPy.\n",
      "  warnings.warn(\n",
      "e:\\Quantum Computing SoC\\venv\\Lib\\site-packages\\pennylane\\math\\utils.py:227: UserWarning: Contains tensors of types {'jax', 'autograd'}; dispatch will prioritize TensorFlow, PyTorch, and  Jax over Autograd. Consider replacing Autograd with vanilla NumPy.\n",
      "  warnings.warn(\n",
      "e:\\Quantum Computing SoC\\venv\\Lib\\site-packages\\pennylane\\math\\utils.py:227: UserWarning: Contains tensors of types {'jax', 'autograd'}; dispatch will prioritize TensorFlow, PyTorch, and  Jax over Autograd. Consider replacing Autograd with vanilla NumPy.\n",
      "  warnings.warn(\n",
      "e:\\Quantum Computing SoC\\venv\\Lib\\site-packages\\pennylane\\math\\utils.py:227: UserWarning: Contains tensors of types {'jax', 'autograd'}; dispatch will prioritize TensorFlow, PyTorch, and  Jax over Autograd. Consider replacing Autograd with vanilla NumPy.\n",
      "  warnings.warn(\n",
      "e:\\Quantum Computing SoC\\venv\\Lib\\site-packages\\pennylane\\math\\utils.py:227: UserWarning: Contains tensors of types {'jax', 'autograd'}; dispatch will prioritize TensorFlow, PyTorch, and  Jax over Autograd. Consider replacing Autograd with vanilla NumPy.\n",
      "  warnings.warn(\n",
      "e:\\Quantum Computing SoC\\venv\\Lib\\site-packages\\pennylane\\math\\utils.py:227: UserWarning: Contains tensors of types {'jax', 'autograd'}; dispatch will prioritize TensorFlow, PyTorch, and  Jax over Autograd. Consider replacing Autograd with vanilla NumPy.\n",
      "  warnings.warn(\n",
      "e:\\Quantum Computing SoC\\venv\\Lib\\site-packages\\pennylane\\math\\utils.py:227: UserWarning: Contains tensors of types {'jax', 'autograd'}; dispatch will prioritize TensorFlow, PyTorch, and  Jax over Autograd. Consider replacing Autograd with vanilla NumPy.\n",
      "  warnings.warn(\n",
      "e:\\Quantum Computing SoC\\venv\\Lib\\site-packages\\pennylane\\math\\utils.py:227: UserWarning: Contains tensors of types {'jax', 'autograd'}; dispatch will prioritize TensorFlow, PyTorch, and  Jax over Autograd. Consider replacing Autograd with vanilla NumPy.\n",
      "  warnings.warn(\n",
      "e:\\Quantum Computing SoC\\venv\\Lib\\site-packages\\pennylane\\math\\utils.py:227: UserWarning: Contains tensors of types {'jax', 'autograd'}; dispatch will prioritize TensorFlow, PyTorch, and  Jax over Autograd. Consider replacing Autograd with vanilla NumPy.\n",
      "  warnings.warn(\n",
      "e:\\Quantum Computing SoC\\venv\\Lib\\site-packages\\pennylane\\math\\utils.py:227: UserWarning: Contains tensors of types {'jax', 'autograd'}; dispatch will prioritize TensorFlow, PyTorch, and  Jax over Autograd. Consider replacing Autograd with vanilla NumPy.\n",
      "  warnings.warn(\n",
      "e:\\Quantum Computing SoC\\venv\\Lib\\site-packages\\pennylane\\math\\utils.py:227: UserWarning: Contains tensors of types {'jax', 'autograd'}; dispatch will prioritize TensorFlow, PyTorch, and  Jax over Autograd. Consider replacing Autograd with vanilla NumPy.\n",
      "  warnings.warn(\n",
      "e:\\Quantum Computing SoC\\venv\\Lib\\site-packages\\pennylane\\math\\utils.py:227: UserWarning: Contains tensors of types {'jax', 'autograd'}; dispatch will prioritize TensorFlow, PyTorch, and  Jax over Autograd. Consider replacing Autograd with vanilla NumPy.\n",
      "  warnings.warn(\n",
      "e:\\Quantum Computing SoC\\venv\\Lib\\site-packages\\pennylane\\math\\utils.py:227: UserWarning: Contains tensors of types {'jax', 'autograd'}; dispatch will prioritize TensorFlow, PyTorch, and  Jax over Autograd. Consider replacing Autograd with vanilla NumPy.\n",
      "  warnings.warn(\n",
      "e:\\Quantum Computing SoC\\venv\\Lib\\site-packages\\pennylane\\math\\utils.py:227: UserWarning: Contains tensors of types {'jax', 'autograd'}; dispatch will prioritize TensorFlow, PyTorch, and  Jax over Autograd. Consider replacing Autograd with vanilla NumPy.\n",
      "  warnings.warn(\n",
      "e:\\Quantum Computing SoC\\venv\\Lib\\site-packages\\pennylane\\math\\utils.py:227: UserWarning: Contains tensors of types {'jax', 'autograd'}; dispatch will prioritize TensorFlow, PyTorch, and  Jax over Autograd. Consider replacing Autograd with vanilla NumPy.\n",
      "  warnings.warn(\n",
      "e:\\Quantum Computing SoC\\venv\\Lib\\site-packages\\pennylane\\math\\utils.py:227: UserWarning: Contains tensors of types {'jax', 'autograd'}; dispatch will prioritize TensorFlow, PyTorch, and  Jax over Autograd. Consider replacing Autograd with vanilla NumPy.\n",
      "  warnings.warn(\n",
      "e:\\Quantum Computing SoC\\venv\\Lib\\site-packages\\pennylane\\math\\utils.py:227: UserWarning: Contains tensors of types {'jax', 'autograd'}; dispatch will prioritize TensorFlow, PyTorch, and  Jax over Autograd. Consider replacing Autograd with vanilla NumPy.\n",
      "  warnings.warn(\n",
      "e:\\Quantum Computing SoC\\venv\\Lib\\site-packages\\pennylane\\math\\utils.py:227: UserWarning: Contains tensors of types {'jax', 'autograd'}; dispatch will prioritize TensorFlow, PyTorch, and  Jax over Autograd. Consider replacing Autograd with vanilla NumPy.\n",
      "  warnings.warn(\n",
      "e:\\Quantum Computing SoC\\venv\\Lib\\site-packages\\pennylane\\math\\utils.py:227: UserWarning: Contains tensors of types {'jax', 'autograd'}; dispatch will prioritize TensorFlow, PyTorch, and  Jax over Autograd. Consider replacing Autograd with vanilla NumPy.\n",
      "  warnings.warn(\n",
      "e:\\Quantum Computing SoC\\venv\\Lib\\site-packages\\pennylane\\math\\utils.py:227: UserWarning: Contains tensors of types {'jax', 'autograd'}; dispatch will prioritize TensorFlow, PyTorch, and  Jax over Autograd. Consider replacing Autograd with vanilla NumPy.\n",
      "  warnings.warn(\n",
      "e:\\Quantum Computing SoC\\venv\\Lib\\site-packages\\pennylane\\math\\utils.py:227: UserWarning: Contains tensors of types {'jax', 'autograd'}; dispatch will prioritize TensorFlow, PyTorch, and  Jax over Autograd. Consider replacing Autograd with vanilla NumPy.\n",
      "  warnings.warn(\n",
      "e:\\Quantum Computing SoC\\venv\\Lib\\site-packages\\pennylane\\math\\utils.py:227: UserWarning: Contains tensors of types {'jax', 'autograd'}; dispatch will prioritize TensorFlow, PyTorch, and  Jax over Autograd. Consider replacing Autograd with vanilla NumPy.\n",
      "  warnings.warn(\n",
      "e:\\Quantum Computing SoC\\venv\\Lib\\site-packages\\pennylane\\math\\utils.py:227: UserWarning: Contains tensors of types {'jax', 'autograd'}; dispatch will prioritize TensorFlow, PyTorch, and  Jax over Autograd. Consider replacing Autograd with vanilla NumPy.\n",
      "  warnings.warn(\n",
      "e:\\Quantum Computing SoC\\venv\\Lib\\site-packages\\pennylane\\math\\utils.py:227: UserWarning: Contains tensors of types {'jax', 'autograd'}; dispatch will prioritize TensorFlow, PyTorch, and  Jax over Autograd. Consider replacing Autograd with vanilla NumPy.\n",
      "  warnings.warn(\n",
      "e:\\Quantum Computing SoC\\venv\\Lib\\site-packages\\pennylane\\math\\utils.py:227: UserWarning: Contains tensors of types {'jax', 'autograd'}; dispatch will prioritize TensorFlow, PyTorch, and  Jax over Autograd. Consider replacing Autograd with vanilla NumPy.\n",
      "  warnings.warn(\n",
      "e:\\Quantum Computing SoC\\venv\\Lib\\site-packages\\pennylane\\math\\utils.py:227: UserWarning: Contains tensors of types {'jax', 'autograd'}; dispatch will prioritize TensorFlow, PyTorch, and  Jax over Autograd. Consider replacing Autograd with vanilla NumPy.\n",
      "  warnings.warn(\n",
      "e:\\Quantum Computing SoC\\venv\\Lib\\site-packages\\pennylane\\math\\utils.py:227: UserWarning: Contains tensors of types {'jax', 'autograd'}; dispatch will prioritize TensorFlow, PyTorch, and  Jax over Autograd. Consider replacing Autograd with vanilla NumPy.\n",
      "  warnings.warn(\n",
      "e:\\Quantum Computing SoC\\venv\\Lib\\site-packages\\pennylane\\math\\utils.py:227: UserWarning: Contains tensors of types {'jax', 'autograd'}; dispatch will prioritize TensorFlow, PyTorch, and  Jax over Autograd. Consider replacing Autograd with vanilla NumPy.\n",
      "  warnings.warn(\n",
      "e:\\Quantum Computing SoC\\venv\\Lib\\site-packages\\pennylane\\math\\utils.py:227: UserWarning: Contains tensors of types {'jax', 'autograd'}; dispatch will prioritize TensorFlow, PyTorch, and  Jax over Autograd. Consider replacing Autograd with vanilla NumPy.\n",
      "  warnings.warn(\n",
      "e:\\Quantum Computing SoC\\venv\\Lib\\site-packages\\pennylane\\math\\utils.py:227: UserWarning: Contains tensors of types {'jax', 'autograd'}; dispatch will prioritize TensorFlow, PyTorch, and  Jax over Autograd. Consider replacing Autograd with vanilla NumPy.\n",
      "  warnings.warn(\n",
      "e:\\Quantum Computing SoC\\venv\\Lib\\site-packages\\pennylane\\math\\utils.py:227: UserWarning: Contains tensors of types {'jax', 'autograd'}; dispatch will prioritize TensorFlow, PyTorch, and  Jax over Autograd. Consider replacing Autograd with vanilla NumPy.\n",
      "  warnings.warn(\n",
      "e:\\Quantum Computing SoC\\venv\\Lib\\site-packages\\pennylane\\math\\utils.py:227: UserWarning: Contains tensors of types {'jax', 'autograd'}; dispatch will prioritize TensorFlow, PyTorch, and  Jax over Autograd. Consider replacing Autograd with vanilla NumPy.\n",
      "  warnings.warn(\n",
      "e:\\Quantum Computing SoC\\venv\\Lib\\site-packages\\pennylane\\math\\utils.py:227: UserWarning: Contains tensors of types {'jax', 'autograd'}; dispatch will prioritize TensorFlow, PyTorch, and  Jax over Autograd. Consider replacing Autograd with vanilla NumPy.\n",
      "  warnings.warn(\n",
      "e:\\Quantum Computing SoC\\venv\\Lib\\site-packages\\pennylane\\math\\utils.py:227: UserWarning: Contains tensors of types {'jax', 'autograd'}; dispatch will prioritize TensorFlow, PyTorch, and  Jax over Autograd. Consider replacing Autograd with vanilla NumPy.\n",
      "  warnings.warn(\n",
      "e:\\Quantum Computing SoC\\venv\\Lib\\site-packages\\pennylane\\math\\utils.py:227: UserWarning: Contains tensors of types {'jax', 'autograd'}; dispatch will prioritize TensorFlow, PyTorch, and  Jax over Autograd. Consider replacing Autograd with vanilla NumPy.\n",
      "  warnings.warn(\n",
      "e:\\Quantum Computing SoC\\venv\\Lib\\site-packages\\pennylane\\math\\utils.py:227: UserWarning: Contains tensors of types {'jax', 'autograd'}; dispatch will prioritize TensorFlow, PyTorch, and  Jax over Autograd. Consider replacing Autograd with vanilla NumPy.\n",
      "  warnings.warn(\n",
      "e:\\Quantum Computing SoC\\venv\\Lib\\site-packages\\pennylane\\math\\utils.py:227: UserWarning: Contains tensors of types {'jax', 'autograd'}; dispatch will prioritize TensorFlow, PyTorch, and  Jax over Autograd. Consider replacing Autograd with vanilla NumPy.\n",
      "  warnings.warn(\n",
      "e:\\Quantum Computing SoC\\venv\\Lib\\site-packages\\pennylane\\math\\utils.py:227: UserWarning: Contains tensors of types {'jax', 'autograd'}; dispatch will prioritize TensorFlow, PyTorch, and  Jax over Autograd. Consider replacing Autograd with vanilla NumPy.\n",
      "  warnings.warn(\n",
      "e:\\Quantum Computing SoC\\venv\\Lib\\site-packages\\pennylane\\math\\utils.py:227: UserWarning: Contains tensors of types {'jax', 'autograd'}; dispatch will prioritize TensorFlow, PyTorch, and  Jax over Autograd. Consider replacing Autograd with vanilla NumPy.\n",
      "  warnings.warn(\n",
      "e:\\Quantum Computing SoC\\venv\\Lib\\site-packages\\pennylane\\math\\utils.py:227: UserWarning: Contains tensors of types {'jax', 'autograd'}; dispatch will prioritize TensorFlow, PyTorch, and  Jax over Autograd. Consider replacing Autograd with vanilla NumPy.\n",
      "  warnings.warn(\n",
      "e:\\Quantum Computing SoC\\venv\\Lib\\site-packages\\pennylane\\math\\utils.py:227: UserWarning: Contains tensors of types {'jax', 'autograd'}; dispatch will prioritize TensorFlow, PyTorch, and  Jax over Autograd. Consider replacing Autograd with vanilla NumPy.\n",
      "  warnings.warn(\n",
      "e:\\Quantum Computing SoC\\venv\\Lib\\site-packages\\pennylane\\math\\utils.py:227: UserWarning: Contains tensors of types {'jax', 'autograd'}; dispatch will prioritize TensorFlow, PyTorch, and  Jax over Autograd. Consider replacing Autograd with vanilla NumPy.\n",
      "  warnings.warn(\n",
      "e:\\Quantum Computing SoC\\venv\\Lib\\site-packages\\pennylane\\math\\utils.py:227: UserWarning: Contains tensors of types {'jax', 'autograd'}; dispatch will prioritize TensorFlow, PyTorch, and  Jax over Autograd. Consider replacing Autograd with vanilla NumPy.\n",
      "  warnings.warn(\n",
      "e:\\Quantum Computing SoC\\venv\\Lib\\site-packages\\pennylane\\math\\utils.py:227: UserWarning: Contains tensors of types {'jax', 'autograd'}; dispatch will prioritize TensorFlow, PyTorch, and  Jax over Autograd. Consider replacing Autograd with vanilla NumPy.\n",
      "  warnings.warn(\n",
      "e:\\Quantum Computing SoC\\venv\\Lib\\site-packages\\pennylane\\math\\utils.py:227: UserWarning: Contains tensors of types {'jax', 'autograd'}; dispatch will prioritize TensorFlow, PyTorch, and  Jax over Autograd. Consider replacing Autograd with vanilla NumPy.\n",
      "  warnings.warn(\n",
      "e:\\Quantum Computing SoC\\venv\\Lib\\site-packages\\pennylane\\math\\utils.py:227: UserWarning: Contains tensors of types {'jax', 'autograd'}; dispatch will prioritize TensorFlow, PyTorch, and  Jax over Autograd. Consider replacing Autograd with vanilla NumPy.\n",
      "  warnings.warn(\n",
      "e:\\Quantum Computing SoC\\venv\\Lib\\site-packages\\pennylane\\math\\utils.py:227: UserWarning: Contains tensors of types {'jax', 'autograd'}; dispatch will prioritize TensorFlow, PyTorch, and  Jax over Autograd. Consider replacing Autograd with vanilla NumPy.\n",
      "  warnings.warn(\n",
      "e:\\Quantum Computing SoC\\venv\\Lib\\site-packages\\pennylane\\math\\utils.py:227: UserWarning: Contains tensors of types {'jax', 'autograd'}; dispatch will prioritize TensorFlow, PyTorch, and  Jax over Autograd. Consider replacing Autograd with vanilla NumPy.\n",
      "  warnings.warn(\n",
      "e:\\Quantum Computing SoC\\venv\\Lib\\site-packages\\pennylane\\math\\utils.py:227: UserWarning: Contains tensors of types {'jax', 'autograd'}; dispatch will prioritize TensorFlow, PyTorch, and  Jax over Autograd. Consider replacing Autograd with vanilla NumPy.\n",
      "  warnings.warn(\n",
      "e:\\Quantum Computing SoC\\venv\\Lib\\site-packages\\pennylane\\math\\utils.py:227: UserWarning: Contains tensors of types {'jax', 'autograd'}; dispatch will prioritize TensorFlow, PyTorch, and  Jax over Autograd. Consider replacing Autograd with vanilla NumPy.\n",
      "  warnings.warn(\n",
      "e:\\Quantum Computing SoC\\venv\\Lib\\site-packages\\pennylane\\math\\utils.py:227: UserWarning: Contains tensors of types {'jax', 'autograd'}; dispatch will prioritize TensorFlow, PyTorch, and  Jax over Autograd. Consider replacing Autograd with vanilla NumPy.\n",
      "  warnings.warn(\n"
     ]
    },
    {
     "name": "stdout",
     "output_type": "stream",
     "text": [
      "\n",
      "Final value of the ground-state energy = -2.40362620 Ha\n",
      "Optimal value of the circuit parameter = -0.3675\n"
     ]
    },
    {
     "name": "stderr",
     "output_type": "stream",
     "text": [
      "e:\\Quantum Computing SoC\\venv\\Lib\\site-packages\\pennylane\\math\\utils.py:227: UserWarning: Contains tensors of types {'jax', 'autograd'}; dispatch will prioritize TensorFlow, PyTorch, and  Jax over Autograd. Consider replacing Autograd with vanilla NumPy.\n",
      "  warnings.warn(\n"
     ]
    }
   ],
   "source": [
    "# Running the optimization loop\n",
    "for n in range(max_iterations):\n",
    "    gradient = jax.grad(cost_fn)(theta)\n",
    "    updates, opt_state = opt.update(gradient, opt_state)\n",
    "    theta = optax.apply_updates(theta, updates)\n",
    "\n",
    "    angles.append(theta)\n",
    "    energy.append(cost_fn(theta))\n",
    "\n",
    "    conv = np.abs(energy[-1] - energy[-2])\n",
    "\n",
    "    if n % 100 == 0:\n",
    "        print(f\"Step = {n},  Energy = {energy[-1]:.8f} Ha\")\n",
    "\n",
    "    if conv <= conv_tol:\n",
    "        break\n",
    "\n",
    "print(\"\\nFinal value of the ground-state energy = {:.8f} Ha\".format(energy[-1]))\n",
    "print(\"Optimal value of the circuit parameter = {:.4f}\".format(angles[-1][0]))"
   ]
  },
  {
   "cell_type": "markdown",
   "metadata": {},
   "source": [
    "# Results\n",
    "Finally, the plot for the results of optimization was plotted using the code cell below, showing the convergence of the energy and the optimal circuit parameters."
   ]
  },
  {
   "cell_type": "code",
   "execution_count": 102,
   "metadata": {},
   "outputs": [
    {
     "data": {
      "image/png": "[encoded data removed]",
      "text/plain": [
       "<Figure size 1200x500 with 2 Axes>"
      ]
     },
     "metadata": {},
     "output_type": "display_data"
    }
   ],
   "source": [
    "# Plot the results\n",
    "fig = plt.figure()\n",
    "fig.set_figheight(5)\n",
    "fig.set_figwidth(12)\n",
    "E_fci = -2.8551605\n",
    "\n",
    "# Adding energy plot on column 1\n",
    "ax1 = fig.add_subplot(121)\n",
    "ax1.plot(range(len(energy)), energy, \"go\", ls=\"dashed\")\n",
    "ax1.plot(range(len(energy)), np.full(len(energy), E_fci), color=\"red\")\n",
    "ax1.set_xlabel(\"Optimization step\", fontsize=13)\n",
    "ax1.set_ylabel(\"Energy (Hartree)\", fontsize=13)\n",
    "ax1.text(0.5, E_fci + 0.1, r\"$E_\\mathrm{FCI}$\", fontsize=15)\n",
    "plt.xticks(fontsize=12)\n",
    "plt.yticks(fontsize=12)\n",
    "\n",
    "# Adding angle plot on column 2\n",
    "\n",
    "ax2 = fig.add_subplot(122)\n",
    "ax2.plot(range(len(angles)), [angle[0] for angle in angles], \"bo\", ls=\"dashed\", label=\"Param 1\")\n",
    "ax2.set_xlabel(\"Optimization step\", fontsize=13)\n",
    "ax2.set_ylabel(\"Gate parameters\", fontsize=13)\n",
    "ax2.legend()\n",
    "plt.xticks(fontsize=12)\n",
    "plt.yticks(fontsize=12)\n",
    "\n",
    "plt.subplots_adjust(wspace=0.3, bottom=0.2)\n",
    "plt.show()\n"
   ]
  },
  {
   "cell_type": "markdown",
   "metadata": {},
   "source": [
    "## Explanation of Results\n",
    "\n",
    "The results of our Variational Quantum Eigensolver (VQE) implementation are depicted in the following plots. Here's a detailed explanation of these results:\n",
    "\n",
    "1. **Energy Convergence Plot:**\n",
    "   - The left plot shows the convergence of the energy during the optimization process.\n",
    "   - The y-axis represents the energy in Hartree units, and the x-axis represents the optimization steps.\n",
    "   - The green dashed line represents the energy calculated at each step, while the red line indicates the reference Full Configuration Interaction (FCI) energy for comparison.\n",
    "\n",
    "2. **Parameter Evolution Plot:**\n",
    "   - The right plot shows the evolution of the circuit parameters during the optimization process.\n",
    "   - The y-axis represents the values of the variational parameters, and the x-axis represents the optimization steps.\n",
    "   - The blue dashed line represents the change in the first parameter, providing insight into how the optimization algorithm adjusts the circuit to minimize the energy.\n",
    "   - The convergence of these parameters indicates that the optimization process successfully finds the optimal values for the quantum circuit, leading to the ground state energy.\n",
    "\n",
    "The convergence of both the energy and the variational parameters demonstrates the reliability and accuracy of this hybrid quantum-classical approach."
   ]
  }
 ],
 "metadata": {
  "kernelspec": {
   "display_name": "venv",
   "language": "python",
   "name": "python3"
  },
  "language_info": {
   "codemirror_mode": {
    "name": "ipython",
    "version": 3
   },
   "file_extension": ".py",
   "mimetype": "text/x-python",
   "name": "python",
   "nbconvert_exporter": "python",
   "pygments_lexer": "ipython3",
   "version": "3.11.4"
  }
 },
 "nbformat": 4,
 "nbformat_minor": 2
}
