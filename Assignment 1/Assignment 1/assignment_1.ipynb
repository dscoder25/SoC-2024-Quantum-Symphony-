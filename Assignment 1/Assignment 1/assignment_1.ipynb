{
 "cells": [
  {
   "cell_type": "markdown",
   "metadata": {},
   "source": [
    "Question 5 "
   ]
  },
  {
   "cell_type": "code",
   "execution_count": 1,
   "metadata": {},
   "outputs": [
    {
     "data": {
      "text/html": [
       "<pre style=\"word-wrap: normal;white-space: pre;background: #fff0;line-height: 1.1;font-family: &quot;Courier New&quot;,Courier,monospace\">       \n",
       "q1: ─X─\n",
       "     │ \n",
       "q0: ─X─\n",
       "       </pre>"
      ],
      "text/plain": [
       "       \n",
       "q1: ─X─\n",
       "     │ \n",
       "q0: ─X─\n",
       "       "
      ]
     },
     "metadata": {},
     "output_type": "display_data"
    },
    {
     "data": {
      "image/png": "[encoded data removed]",
      "text/plain": [
       "<Figure size 640x480 with 1 Axes>"
      ]
     },
     "execution_count": 1,
     "metadata": {},
     "output_type": "execute_result"
    }
   ],
   "source": [
    "#Part a\n",
    "from qiskit import QuantumCircuit, QuantumRegister\n",
    "from qiskit.quantum_info import Statevector\n",
    "from qiskit.visualization import plot_histogram\n",
    "X = QuantumRegister(1,\"q0\")\n",
    "Y = QuantumRegister(1,\"q1\")\n",
    "circuit = QuantumCircuit(Y,X)\n",
    "circuit.swap(Y,X)\n",
    "display(circuit.draw())\n",
    "ket0 = Statevector([0,1,0,0])\n",
    "v = ket0.evolve(circuit)\n",
    "stats = v.sample_counts(4000)\n",
    "plot_histogram(stats)\n"
   ]
  },
  {
   "cell_type": "code",
   "execution_count": 2,
   "metadata": {},
   "outputs": [
    {
     "data": {
      "text/html": [
       "<pre style=\"word-wrap: normal;white-space: pre;background: #fff0;line-height: 1.1;font-family: &quot;Courier New&quot;,Courier,monospace\">      ┌───┐\n",
       "q_in: ┤ H ├\n",
       "      └───┘</pre>"
      ],
      "text/plain": [
       "      ┌───┐\n",
       "q_in: ┤ H ├\n",
       "      └───┘"
      ]
     },
     "metadata": {},
     "output_type": "display_data"
    },
    {
     "data": {
      "image/png": "[encoded data removed]",
      "text/plain": [
       "<Figure size 640x480 with 1 Axes>"
      ]
     },
     "execution_count": 2,
     "metadata": {},
     "output_type": "execute_result"
    }
   ],
   "source": [
    "#Part b\n",
    "X = QuantumRegister(1,'q_in')\n",
    "circuit = QuantumCircuit(X)\n",
    "circuit.h(X)\n",
    "display(circuit.draw()) \n",
    "ket0 = Statevector([1,0])\n",
    "v = ket0.evolve(circuit)\n",
    "stats = v.sample_counts(4000)\n",
    "plot_histogram(stats)"
   ]
  },
  {
   "cell_type": "code",
   "execution_count": 3,
   "metadata": {},
   "outputs": [
    {
     "data": {
      "text/html": [
       "<pre style=\"word-wrap: normal;white-space: pre;background: #fff0;line-height: 1.1;font-family: &quot;Courier New&quot;,Courier,monospace\">    ┌───┐     ┌───┐\n",
       "q2: ┤ X ├──■──┤ X ├\n",
       "    └─┬─┘┌─┴─┐└─┬─┘\n",
       "q1: ──■──┤ X ├──■──\n",
       "      │  └─┬─┘  │  \n",
       "q0: ──■────■────■──\n",
       "                   </pre>"
      ],
      "text/plain": [
       "    ┌───┐     ┌───┐\n",
       "q2: ┤ X ├──■──┤ X ├\n",
       "    └─┬─┘┌─┴─┐└─┬─┘\n",
       "q1: ──■──┤ X ├──■──\n",
       "      │  └─┬─┘  │  \n",
       "q0: ──■────■────■──\n",
       "                   "
      ]
     },
     "metadata": {},
     "output_type": "display_data"
    },
    {
     "data": {
      "text/plain": [
       "('111',\n",
       " Statevector([0.+0.j, 0.+0.j, 0.+0.j, 0.+0.j, 0.+0.j, 0.+0.j, 0.+0.j,\n",
       "              1.+0.j],\n",
       "             dims=(2, 2, 2)))"
      ]
     },
     "execution_count": 3,
     "metadata": {},
     "output_type": "execute_result"
    }
   ],
   "source": [
    "#part c\n",
    "#q3 circuit\n",
    "X = QuantumRegister(1,'q2')\n",
    "Y = QuantumRegister(1,'q1')\n",
    "Z = QuantumRegister(1,'q0')\n",
    "circuit = QuantumCircuit(X,Y,Z)\n",
    "circuit.ccx(Z,Y,X)\n",
    "circuit.ccx(Z,X,Y)\n",
    "circuit.ccx(Z,Y,X)\n",
    "display(circuit.draw())\n",
    "ket0 = Statevector([0,0,0,0,0,0,0,1])\n",
    "v = ket0.evolve(circuit)\n",
    "v.measure()"
   ]
  },
  {
   "cell_type": "code",
   "execution_count": 4,
   "metadata": {},
   "outputs": [
    {
     "data": {
      "text/html": [
       "<pre style=\"word-wrap: normal;white-space: pre;background: #fff0;line-height: 1.1;font-family: &quot;Courier New&quot;,Courier,monospace\">   ┌───┐          \n",
       "x: ┤ H ├──■───────\n",
       "   └───┘┌─┴─┐     \n",
       "y: ─────┤ X ├──■──\n",
       "        └───┘┌─┴─┐\n",
       "z: ──────────┤ X ├\n",
       "             └───┘</pre>"
      ],
      "text/plain": [
       "   ┌───┐          \n",
       "x: ┤ H ├──■───────\n",
       "   └───┘┌─┴─┐     \n",
       "y: ─────┤ X ├──■──\n",
       "        └───┘┌─┴─┐\n",
       "z: ──────────┤ X ├\n",
       "             └───┘"
      ]
     },
     "metadata": {},
     "output_type": "display_data"
    }
   ],
   "source": [
    "#part c\n",
    "#q4 circuit\n",
    "\n",
    "X = QuantumRegister(1,'x')\n",
    "Y = QuantumRegister(1,'y')\n",
    "Z = QuantumRegister(1,'z')\n",
    "circuit = QuantumCircuit(X,Y,Z) \n",
    "circuit.h(X)\n",
    "circuit.cx(X,Y)\n",
    "circuit.cx(Y,Z)\n",
    "display(circuit.draw())\n",
    "ket0 = Statevector([1,0,0,0,0,0,0,0])\n",
    "v = ket0.evolve(circuit)\n",
    "stats = v.sample_counts(4000)\n",
    "plot_histogram(stats)\n",
    "\n",
    "A = QuantumRegister(1,'a')\n",
    "B = QuantumRegister(1,'b')\n",
    "C = QuantumRegister(1,'c')\n"
   ]
  },
  {
   "cell_type": "code",
   "execution_count": 5,
   "metadata": {},
   "outputs": [
    {
     "data": {
      "text/plain": [
       "'Operator([[0.+0.j, 1.+0.j, 0.+0.j, 0.+0.j, 0.+0.j, 0.+0.j, 0.+0.j, 0.+0.j],\\n          [0.+0.j, 0.+0.j, 1.+0.j, 0.+0.j, 0.+0.j, 0.+0.j, 0.+0.j, 0.+0.j],\\n          [0.+0.j, 0.+0.j, 0.+0.j, 1.+0.j, 0.+0.j, 0.+0.j, 0.+0.j, 0.+0.j],\\n          [0.+0.j, 0.+0.j, 0.+0.j, 0.+0.j, 1.+0.j, 0.+0.j, 0.+0.j, 0.+0.j],\\n          [0.+0.j, 0.+0.j, 0.+0.j, 0.+0.j, 0.+0.j, 1.+0.j, 0.+0.j, 0.+0.j],\\n          [0.+0.j, 0.+0.j, 0.+0.j, 0.+0.j, 0.+0.j, 0.+0.j, 1.+0.j, 0.+0.j],\\n          [0.+0.j, 0.+0.j, 0.+0.j, 0.+0.j, 0.+0.j, 0.+0.j, 0.+0.j, 1.+0.j],\\n          [1.+0.j, 0.+0.j, 0.+0.j, 0.+0.j, 0.+0.j, 0.+0.j, 0.+0.j, 0.+0.j]],\\n         input_dims=(2, 2, 2), output_dims=(2, 2, 2))'"
      ]
     },
     "metadata": {},
     "output_type": "display_data"
    }
   ],
   "source": [
    "#part d\n",
    "import qiskit.quantum_info as qi\n",
    "op = qi.Operator([[0,1,0,0,0,0,0,0],[0,0,1,0,0,0,0,0],[0,0,0,1,0,0,0,0],[0,0,0,0,1,0,0,0],[0,0,0,0,0,1,0,0],[0,0,0,0,0,0,1,0],[0,0,0,0,0,0,0,1],[1,0,0,0,0,0,0,0]])\n",
    "v = Statevector([0,0,1,0,0,0,0,0])\n",
    "display(op.draw())\n",
    "#this operator converts 000 to 111.\n"
   ]
  }
 ],
 "metadata": {
  "kernelspec": {
   "display_name": "venv",
   "language": "python",
   "name": "python3"
  },
  "language_info": {
   "codemirror_mode": {
    "name": "ipython",
    "version": 3
   },
   "file_extension": ".py",
   "mimetype": "text/x-python",
   "name": "python",
   "nbconvert_exporter": "python",
   "pygments_lexer": "ipython3",
   "version": "3.11.4"
  }
 },
 "nbformat": 4,
 "nbformat_minor": 2
}
